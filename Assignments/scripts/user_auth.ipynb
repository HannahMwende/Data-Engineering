{
 "cells": [
  {
   "cell_type": "markdown",
   "id": "80e1c6ff",
   "metadata": {},
   "source": [
    "#### Simple user authentication program"
   ]
  },
  {
   "cell_type": "code",
   "execution_count": 11,
   "id": "f64497a2",
   "metadata": {},
   "outputs": [
    {
     "name": "stdout",
     "output_type": "stream",
     "text": [
      "Registration successful!\n"
     ]
    }
   ],
   "source": [
    "import random\n",
    "\n",
    "#Initiating an empty dictionary to store user data\n",
    "users = {\n",
    "    101: {\n",
    "        'email': 'alice@gmail.com',\n",
    "        'username': 'alice',\n",
    "        'password': 'alicepass1'\n",
    "    },\n",
    "    102: {\n",
    "        'email': 'bob@gmail.com',\n",
    "        'username': 'bob',\n",
    "        'password': 'bobpass2'\n",
    "    },\n",
    "    103: {\n",
    "        'email': 'charlie@gmail.com',\n",
    "        'username': 'charlie',\n",
    "        'password': 'charliepass3'\n",
    "    }\n",
    "}\n",
    "\n",
    "#Intializing the program (register function)\n",
    "def register():\n",
    "    email = input(\"Enter email: \").strip().lower()\n",
    "    username = input(\"Enter username: \").strip().lower()\n",
    "    password = input(\"Enter password: \")\n",
    "\n",
    "    # Email validation\n",
    "    if '@' not in email or '.' not in email.split('@')[-1]:\n",
    "        print(\"Invalid email format. Please enter a valid email.\")\n",
    "        return\n",
    "\n",
    "    # Check for duplicate email\n",
    "    for user_info in users.values():\n",
    "        if user_info['email'] == email:\n",
    "            print(\"Email already exists. Please choose a different email.\")\n",
    "            return\n",
    "\n",
    "    # Generate unique user ID\n",
    "    while True:\n",
    "        user_id = random.randint(1, 1000)\n",
    "        if user_id not in users:\n",
    "            break\n",
    "\n",
    "    users[user_id] = {\n",
    "        'email': email,\n",
    "        'username': username,\n",
    "        'password': password\n",
    "    }\n",
    "    print(\"Registration successful!\")\n",
    "\n",
    "\n",
    "\n",
    "\n",
    "register()"
   ]
  },
  {
   "cell_type": "code",
   "execution_count": 12,
   "id": "8f8381d4",
   "metadata": {},
   "outputs": [
    {
     "name": "stdout",
     "output_type": "stream",
     "text": [
      "Invalid username or password. You have 2 attempts left.\n",
      "Invalid username or password. You have 1 attempts left.\n",
      "Login successful!\n"
     ]
    }
   ],
   "source": [
    "#Intiating login function\n",
    "def login():\n",
    "    attempts = 3\n",
    "    while attempts > 0:\n",
    "        username = input(\"Enter username: \").strip().lower()\n",
    "        password = input(\"Enter password: \")\n",
    "        for user_id, user_info in users.items():\n",
    "            if user_info['username'] == username and user_info['password'] == password:\n",
    "                print(\"Login successful!\")\n",
    "                return\n",
    "        attempts -= 1\n",
    "        if attempts > 0:\n",
    "            print(f\"Invalid username or password. You have {attempts} attempts left.\")\n",
    "        else:\n",
    "            print(\"Login failed. No attempts left.\")\n",
    "\n",
    "\n",
    "\n",
    "\n",
    "login()"
   ]
  },
  {
   "cell_type": "code",
   "execution_count": 13,
   "id": "5cf9e261",
   "metadata": {},
   "outputs": [
    {
     "name": "stdout",
     "output_type": "stream",
     "text": [
      "User 'charlie' removed successfully.\n"
     ]
    }
   ],
   "source": [
    "# Function to remove a user by username\n",
    "def remove_user():\n",
    "    # Prompt for the username to remove\n",
    "    username = input(\"Enter the username to remove: \").strip().lower()\n",
    "    found = False  # Flag to check if user is found\n",
    "\n",
    "    # Iterate through the users dictionary\n",
    "    for user_id, user_info in list(users.items()):\n",
    "        # Check if the username matches\n",
    "        if user_info['username'] == username:\n",
    "            del users[user_id]  # Remove the user from the dictionary\n",
    "            print(f\"User '{username}' removed successfully.\")\n",
    "            found = True\n",
    "            break  # Exit loop after removing user\n",
    "\n",
    "    # If user was not found, print a message\n",
    "    if not found:\n",
    "        print(f\"User '{username}' not found.\")\n",
    "\n",
    "\n",
    "\n",
    "\n",
    "\n",
    "remove_user()"
   ]
  }
 ],
 "metadata": {
  "kernelspec": {
   "display_name": "Python 3",
   "language": "python",
   "name": "python3"
  },
  "language_info": {
   "codemirror_mode": {
    "name": "ipython",
    "version": 3
   },
   "file_extension": ".py",
   "mimetype": "text/x-python",
   "name": "python",
   "nbconvert_exporter": "python",
   "pygments_lexer": "ipython3",
   "version": "3.10.11"
  }
 },
 "nbformat": 4,
 "nbformat_minor": 5
}
